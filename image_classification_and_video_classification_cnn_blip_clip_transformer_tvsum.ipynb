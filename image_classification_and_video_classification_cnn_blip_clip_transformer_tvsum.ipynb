version https://git-lfs.github.com/spec/v1
oid sha256:b70ee2153b2b0b0fcedce302827db2221ab2ee51b9af7f2bbc2e782b4fc6a0cd
size 44218145
